{
 "cells": [
  {
   "cell_type": "code",
   "execution_count": 1,
   "id": "ef5195a8",
   "metadata": {},
   "outputs": [],
   "source": [
    "#!/usr/bin/env python3\n",
    "# Download the 56 zip files in Images_png in batches\n",
    "import urllib.request\n",
    "from tqdm import tqdm\n",
    "import os\n",
    "\n",
    "from chest_xray_diagnosis import get_root_path"
   ]
  },
  {
   "cell_type": "code",
   "execution_count": 2,
   "id": "39b67591",
   "metadata": {},
   "outputs": [
    {
     "data": {
      "text/plain": [
       "PosixPath('/home/mittal.nit/projects/chest_xray_diagnosis')"
      ]
     },
     "execution_count": 2,
     "metadata": {},
     "output_type": "execute_result"
    }
   ],
   "source": [
    "get_root_path()"
   ]
  },
  {
   "cell_type": "code",
   "execution_count": 3,
   "id": "13fa3151",
   "metadata": {},
   "outputs": [],
   "source": [
    "PROJECT_PATH = get_root_path()\n",
    "\n",
    "\n",
    "SAVE_PATH = \"data/xrays\"\n",
    "os.makedirs(os.path.join(PROJECT_PATH, SAVE_PATH), exist_ok=True)"
   ]
  },
  {
   "cell_type": "code",
   "execution_count": 4,
   "id": "e2cf9ca6",
   "metadata": {},
   "outputs": [
    {
     "name": "stdout",
     "output_type": "stream",
     "text": [
      "Downloading 1/12 images_01.tar.gz\n",
      "Download complete. Please check the checksums\n"
     ]
    }
   ],
   "source": [
    "# URLs for the zip files\n",
    "links = [\n",
    "    'https://nihcc.box.com/shared/static/vfk49d74nhbxq3nqjg0900w5nvkorp5c.gz',\n",
    "    'https://nihcc.box.com/shared/static/i28rlmbvmfjbl8p2n3ril0pptcmcu9d1.gz',\n",
    "    'https://nihcc.box.com/shared/static/f1t00wrtdk94satdfb9olcolqx20z2jp.gz',\n",
    "    'https://nihcc.box.com/shared/static/0aowwzs5lhjrceb3qp67ahp0rd1l1etg.gz',\n",
    "    'https://nihcc.box.com/shared/static/v5e3goj22zr6h8tzualxfsqlqaygfbsn.gz',\n",
    "    'https://nihcc.box.com/shared/static/asi7ikud9jwnkrnkj99jnpfkjdes7l6l.gz',\n",
    "    'https://nihcc.box.com/shared/static/jn1b4mw4n6lnh74ovmcjb8y48h8xj07n.gz',\n",
    "    'https://nihcc.box.com/shared/static/tvpxmn7qyrgl0w8wfh9kqfjskv6nmm1j.gz',\n",
    "    'https://nihcc.box.com/shared/static/upyy3ml7qdumlgk2rfcvlb9k6gvqq2pj.gz',\n",
    "    'https://nihcc.box.com/shared/static/l6nilvfa9cg3s28tqv1qc1olm3gnz54p.gz',\n",
    "    'https://nihcc.box.com/shared/static/hhq8fkdgvcari67vfhs7ppg2w6ni4jze.gz',\n",
    "    'https://nihcc.box.com/shared/static/ioqwiy20ihqwyr8pf4c24eazhh281pbu.gz'\n",
    "]\n",
    "\n",
    "\n",
    "for idx, url in enumerate(links):    \n",
    "    path = os.path.join(PROJECT_PATH, SAVE_PATH, f\"images_{idx+1:02d}.tar.gz\")\n",
    "    print(f\"Downloading {idx+1}/{len(links)} {os.path.basename(path)}\")\n",
    "    urllib.request.urlretrieve(url, path)  # download the zip file\n",
    "    break\n",
    "\n",
    "print(\"Download complete. Please check the checksums\")"
   ]
  }
 ],
 "metadata": {
  "kernelspec": {
   "display_name": "chest_xray_diagnosis",
   "language": "python",
   "name": "chest_xray_diagnosis"
  },
  "language_info": {
   "codemirror_mode": {
    "name": "ipython",
    "version": 3
   },
   "file_extension": ".py",
   "mimetype": "text/x-python",
   "name": "python",
   "nbconvert_exporter": "python",
   "pygments_lexer": "ipython3",
   "version": "3.9.2"
  }
 },
 "nbformat": 4,
 "nbformat_minor": 5
}
